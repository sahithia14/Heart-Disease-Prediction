{
 "cells": [
  {
   "cell_type": "code",
   "execution_count": 4,
   "metadata": {},
   "outputs": [
    {
     "name": "stdout",
     "output_type": "stream",
     "text": [
      "0.5573770491803278\n"
     ]
    }
   ],
   "source": [
    "import pickle\n",
    "import pandas as pd\n",
    "from sklearn.metrics import make_scorer, accuracy_score\n",
    "loaded_model = pickle.load(open('/Users/Sahithi/HeartModels/HeartDiseaseML.pickle', 'rb'))\n",
    "testData= pd.read_csv('processed_cleveland_data_test.csv')\n",
    "Xtest =testData.drop(['num'], axis=1)\n",
    "Ytest = testData['num']\n",
    "predictions = loaded_model.predict(Xtest)\n",
    "accuracy= accuracy_score(Ytest, predictions)\n",
    "print(accuracy)\n"
   ]
  },
  {
   "cell_type": "code",
   "execution_count": null,
   "metadata": {},
   "outputs": [],
   "source": []
  }
 ],
 "metadata": {
  "kernelspec": {
   "display_name": "Python 3",
   "language": "python",
   "name": "python3"
  },
  "language_info": {
   "codemirror_mode": {
    "name": "ipython",
    "version": 3
   },
   "file_extension": ".py",
   "mimetype": "text/x-python",
   "name": "python",
   "nbconvert_exporter": "python",
   "pygments_lexer": "ipython3",
   "version": "3.6.8"
  }
 },
 "nbformat": 4,
 "nbformat_minor": 2
}
